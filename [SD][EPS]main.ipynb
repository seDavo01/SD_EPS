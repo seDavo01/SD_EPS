{
 "metadata": {
  "language_info": {
   "codemirror_mode": {
    "name": "ipython",
    "version": 3
   },
   "file_extension": ".py",
   "mimetype": "text/x-python",
   "name": "python",
   "nbconvert_exporter": "python",
   "pygments_lexer": "ipython3",
   "version": "3.9.4-final"
  },
  "orig_nbformat": 2,
  "kernelspec": {
   "name": "python38364bitc1667956fb5c46e89244c9619ce5a9e3",
   "display_name": "Python 3.8.3 64-bit"
  }
 },
 "nbformat": 4,
 "nbformat_minor": 2,
 "cells": [
  {
   "cell_type": "code",
   "execution_count": 1,
   "metadata": {},
   "outputs": [],
   "source": [
    "import os\n",
    "\n",
    "import pandas as pd\n",
    "import numpy as np\n",
    "\n",
    "from python.parameters import *\n",
    "from python.components import *\n",
    "from python.utils import *\n",
    "from python.experiment import *"
   ]
  },
  {
   "cell_type": "code",
   "execution_count": 2,
   "metadata": {},
   "outputs": [],
   "source": [
    "results_folder = 'results'\n",
    "# thermal_folder = os.path.join(results_folder, 'thermal')\n",
    "output_folder = os.path.join(results_folder, 'test')\n",
    "ttc_folder = os.path.join(results_folder, 'ttc')"
   ]
  },
  {
   "cell_type": "code",
   "execution_count": 3,
   "metadata": {},
   "outputs": [],
   "source": [
    "components_csv = 'data/components.csv'\n",
    "eclipse_csv = 'data/STK/Satellite_Eclipse_Times.csv'\n",
    "solar_angles_csv = 'data/STK/Satellite_solar_angles.csv'\n",
    "target_csv = 'data/STK/Satellite_Satellite_Sensor_Hyperscout2_To_AreaTarget_Europe_Access.csv'\n",
    "GS_0_csv = 'data/STK/Satellite-Satellite-To-Facility-Esrange_Station_ESC-Sensor-Esrange_Access.csv'\n",
    "GS_1_csv = 'data/STK/Satellite-Satellite-To-Facility-Svalsat_SG_1_STDN_SG1S-Sensor-Svalbard_Access.csv'"
   ]
  },
  {
   "cell_type": "code",
   "execution_count": 4,
   "metadata": {},
   "outputs": [],
   "source": [
    "eclipse_df = pd.read_csv(eclipse_csv)\n",
    "solar_angles_df = pd.read_csv(solar_angles_csv)\n",
    "target_df = pd.read_csv(target_csv)\n",
    "GS_0_df = pd.read_csv(GS_0_csv)\n",
    "GS_1_df = pd.read_csv(GS_1_csv)"
   ]
  },
  {
   "cell_type": "code",
   "execution_count": 5,
   "metadata": {},
   "outputs": [],
   "source": [
    "components_params = csvtoparameters(components_csv)\n",
    "solar_params = SolarCellParameters()\n",
    "battery_params = BatteryCellParameters()\n",
    "ttc_params = TTCParameters()\n",
    "heater_params = HeaterParameters()\n",
    "payload_params = PayloadParameters()\n",
    "\n",
    "EOL = False"
   ]
  },
  {
   "cell_type": "code",
   "execution_count": 6,
   "metadata": {
    "tags": []
   },
   "outputs": [],
   "source": [
    "solar_panels = [\n",
    "    SolarPanel(solar_params, eclipse_df, n_series=5, n_parallel=2, EOL=EOL),\n",
    "    SolarPanel(solar_params, eclipse_df, n_series=5, n_parallel=2, EOL=EOL),\n",
    "    SolarPanel(solar_params, eclipse_df, n_series=5, n_parallel=2, EOL=EOL),\n",
    "    SolarPanel(solar_params, eclipse_df, n_series=5, n_parallel=2, EOL=EOL),\n",
    "]\n",
    "# solar_panels = [\n",
    "#     SolarPanel(solar_params, eclipse_df, n_series=6, n_parallel=3, face='x', angle_data=solar_angles_df, EOL=EOL),\n",
    "#     SolarPanel(solar_params, eclipse_df, n_series=6, n_parallel=2, face='z', angle_data=solar_angles_df, EOL=EOL),\n",
    "# ]\n",
    "\n",
    "components = list()\n",
    "for params in components_params:\n",
    "    components.append(Component(params, eclipse_df))\n",
    "\n",
    "battery_packs = [\n",
    "    BatteryPack(battery_params, n_series=4, n_parallel=2, EOL=EOL),\n",
    "    BatteryPack(battery_params, n_series=4, n_parallel=2, EOL=EOL)\n",
    "]\n",
    "\n",
    "heaters = [\n",
    "    Heater(heater_params, eclipse_df),\n",
    "    Heater(heater_params, eclipse_df)\n",
    "]\n",
    "\n",
    "ttcs = [\n",
    "    TTC(ttc_params, mode='S-band', sunlight=True, target=False, GS_data=[GS_0_df, GS_1_df], eclipse_data=eclipse_df),\n",
    "    TTC(ttc_params, mode='UHF', sunlight=False, target=False, eclipse_data=eclipse_df, target_data=target_df)\n",
    "]\n",
    "\n",
    "payload = Payload(payload_params, target_df, eclipse_df)"
   ]
  },
  {
   "cell_type": "code",
   "execution_count": 7,
   "metadata": {},
   "outputs": [],
   "source": [
    "schedules = {\n",
    "    'day_1': ['acquisition', 'elaboration', 'transfer'],\n",
    "    'day_2': ['acquisition', 'elaboration', 'transfer'],\n",
    "    'day_3': ['acquisition', 'elaboration', 'transfer'],\n",
    "    'day_4': ['acquisition', 'elaboration', 'transfer'],\n",
    "    'day_5': ['acquisition', 'elaboration', 'transfer'],\n",
    "    'day_6': ['download'],\n",
    "    'day_7': ['download'],\n",
    "}\n",
    "\n",
    "experiment = Experiment(payload,\n",
    "                        solar_panels,\n",
    "                        battery_packs,\n",
    "                        ttcs,\n",
    "                        components,\n",
    "                        heaters,\n",
    "                        ttc_folder)"
   ]
  },
  {
   "cell_type": "code",
   "execution_count": 13,
   "metadata": {
    "tags": []
   },
   "outputs": [
    {
     "output_type": "stream",
     "name": "stdout",
     "text": [
      "5.3762500000000015\n",
      "9.87750000000044\n",
      "14.312500000002709\n",
      "19.570000000000324\n",
      "24.647499999995706\n",
      "22.467812499997688\n",
      "20.438124999999534\n"
     ]
    }
   ],
   "source": [
    "experiment.reset()\n",
    "experiment.skiptime(3600 * 7)\n",
    "\n",
    "time = 0\n",
    "for key, schedule in schedules.items():\n",
    "    time = experiment.day(key, schedule, time)\n",
    "    print(experiment.ttcs[0].data)\n",
    "    # experiment.csv_thermal()\n",
    "    # experiment.plot_thermal()\n",
    "    # experiment.plot(['input_power'])\n",
    "    # experiment.csv(['input_power', 'total_load_power', ['batteries', 'DOD']])\n",
    "    # experiment.plot(['ttc_power'])\n",
    "    # experiment.csv(['ttc_power', 'S-band_status'])"
   ]
  },
  {
   "cell_type": "code",
   "execution_count": 12,
   "metadata": {},
   "outputs": [
    {
     "output_type": "execute_result",
     "data": {
      "text/plain": [
       "20.438124999999534"
      ]
     },
     "metadata": {},
     "execution_count": 12
    }
   ],
   "source": [
    "experiment.ttcs[0].data"
   ]
  }
 ]
}